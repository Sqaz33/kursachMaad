{
 "cells": [
  {
   "cell_type": "code",
   "execution_count": 24,
   "metadata": {},
   "outputs": [
    {
     "name": "stdout",
     "output_type": "stream",
     "text": [
      "(4324, 9)\n",
      "(964, 10)\n"
     ]
    }
   ],
   "source": [
    "import pandas as pd\n",
    "\n",
    "# Загрузка данных\n",
    "data_path = \"dataset/Space_Corrected.csv\"\n",
    "df = pd.read_csv(data_path)\n",
    "\n",
    "print(df.shape)\n",
    "\n",
    "df['Mission Success'] = df['Status Mission'].apply(lambda x: 1 if x == 'Success' else 0)\n",
    "\n",
    "df = df.dropna(subset=['Cost', 'Mission Success', 'Datum'])\n",
    "\n",
    "df = df.drop_duplicates()\n",
    "\n",
    "df['Cost'] = pd.to_numeric(df['Cost'], errors='coerce')\n",
    "\n",
    "print(df.shape)\n",
    "\n",
    "\n",
    "# # Обработка пропущенных значений\n",
    "# # Заполнение или удаление в зависимости от столбца\n",
    "# df['Rocket Cost'] = df['Rocket Cost'].replace({',': '', ' ': ''}, regex=True).astype(float)\n",
    "# df['Company Name'] = df['Company Name'].fillna('Unknown')\n",
    "# df['Status Rocket'] = df['Status Rocket'].fillna('Unknown')\n",
    "# df['Status Mission'] = df['Status Mission'].fillna('Unknown')\n",
    "# df['Detail'] = df['Detail'].fillna('No Details')\n",
    "\n",
    "# # Преобразование столбца Datum в формат datetime\n",
    "# df['Datum'] = pd.to_datetime(df['Datum'], errors='coerce')\n",
    "\n",
    "# # Обработка столбца Location:\n",
    "# # Разделение на страну и площадку запуска (при необходимости)\n",
    "# df[['Launch Site', 'Country']] = df['Location'].str.rsplit(',', n=1, expand=True)\n",
    "# df['Country'] = df['Country'].str.strip()\n",
    "# df['Launch Site'] = df['Launch Site'].str.strip()\n",
    "\n",
    "# # Категоризация статусов\n",
    "# status_mapping = {\n",
    "#     \"StatusActive\": \"Active\",\n",
    "#     \"StatusRetired\": \"Retired\",\n",
    "#     \"StatusDestroyed\": \"Destroyed\",\n",
    "#     \"StatusUnknown\": \"Unknown\"\n",
    "# }\n",
    "# df['Status Rocket'] = df['Status Rocket'].map(status_mapping).fillna('Unknown')\n",
    "\n",
    "# # Приведение всех текстовых данных к нижнему регистру\n",
    "# text_columns = ['Company Name', 'Status Rocket', 'Status Mission', 'Detail', 'Country', 'Launch Site']\n",
    "# df[text_columns] = df[text_columns].apply(lambda x: x.str.lower())\n",
    "\n",
    "# # Проверка на дубликаты\n",
    "# df = df.drop_duplicates()\n",
    "\n",
    "\n",
    "\n"
   ]
  }
 ],
 "metadata": {
  "kernelspec": {
   "display_name": ".venv",
   "language": "python",
   "name": "python3"
  },
  "language_info": {
   "codemirror_mode": {
    "name": "ipython",
    "version": 3
   },
   "file_extension": ".py",
   "mimetype": "text/x-python",
   "name": "python",
   "nbconvert_exporter": "python",
   "pygments_lexer": "ipython3",
   "version": "3.12.2"
  }
 },
 "nbformat": 4,
 "nbformat_minor": 2
}
